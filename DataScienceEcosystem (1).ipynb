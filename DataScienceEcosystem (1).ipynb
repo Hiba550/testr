{
 "cells": [
  {
   "cell_type": "markdown",
   "id": "db4b3151-1bd7-40d2-b8f0-444e48688ee7",
   "metadata": {},
   "source": [
    "Data Science Tools and Ecosystem\n"
   ]
  },
  {
   "cell_type": "markdown",
   "id": "e5744c06-3913-45d3-a56e-34e96d82a9f5",
   "metadata": {},
   "source": [
    "In this notebook, I have compiled a comprehensive overview of the essential tools and ecosystem of Data Science."
   ]
  },
  {
   "cell_type": "markdown",
   "id": "46289d77-d248-4deb-a281-360df53193c1",
   "metadata": {},
   "source": [
    "In this notebook, Data Science Tools and Ecosystem are summarized.\n",
    "\n",
    "Objectives:\n",
    "\n",
    "List popular languages for Data Science\n",
    "Explain the basics of Python programming\n",
    "Discuss common data types and structures used in Data Science\n",
    "\n"
   ]
  },
  {
   "cell_type": "markdown",
   "id": "76414341-cb84-440d-a1df-99479239906d",
   "metadata": {},
   "source": [
    "Some of the commonly used libraries used by Data Scientists include:\n",
    "\n",
    "Pandas - for data manipulation and analysis\n",
    "NumPy - for numerical computations and matrix operations\n",
    "Matplotlib - for data visualization and plotting\n",
    "Scikit-learn - for machine learning and predictive modeling\n",
    "TensorFlow - for deep learning and neural networks\n",
    "​"
   ]
  },
  {
   "cell_type": "markdown",
   "id": "b5bdba0a-0e1d-49fb-bee3-1b67c77e0bde",
   "metadata": {},
   "source": [
    "Below are a few examples of evaluating arithmetic expressions in Python\n",
    "\n",
    "2 + 3\n",
    "\n",
    "7 - 5\n",
    "\n",
    "3 * 4\n",
    "\n",
    "10 / 2"
   ]
  },
  {
   "cell_type": "code",
   "execution_count": 2,
   "id": "fa2fd001-f96e-4e9a-9e95-562487272501",
   "metadata": {
    "tags": []
   },
   "outputs": [
    {
     "data": {
      "text/plain": [
       "3.3333333333333335"
      ]
     },
     "execution_count": 2,
     "metadata": {},
     "output_type": "execute_result"
    }
   ],
   "source": [
    "200/60"
   ]
  },
  {
   "cell_type": "markdown",
   "id": "f5562a0e-fd55-4518-8f4b-537c3be870f1",
   "metadata": {},
   "source": [
    "## Author\n",
    "\n",
    "Hiba\n"
   ]
  },
  {
   "cell_type": "code",
   "execution_count": null,
   "id": "1e90de5b-dc3d-4c27-b3df-e5f1f1663ffc",
   "metadata": {},
   "outputs": [],
   "source": []
  }
 ],
 "metadata": {
  "kernelspec": {
   "display_name": "Python 3 (ipykernel)",
   "language": "python",
   "name": "python3"
  },
  "language_info": {
   "codemirror_mode": {
    "name": "ipython",
    "version": 3
   },
   "file_extension": ".py",
   "mimetype": "text/x-python",
   "name": "python",
   "nbconvert_exporter": "python",
   "pygments_lexer": "ipython3",
   "version": "3.9.0"
  }
 },
 "nbformat": 4,
 "nbformat_minor": 5
}
